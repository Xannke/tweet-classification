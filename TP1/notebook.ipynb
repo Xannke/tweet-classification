{
 "cells": [
  {
   "cell_type": "code",
   "execution_count": 1,
   "metadata": {
    "collapsed": false,
    "pycharm": {
     "is_executing": false,
     "name": "#%%\n"
    }
   },
   "outputs": [],
   "source": [
    "import numpy as np\n",
    "import pandas as pd\n",
    "from sklearn.model_selection import train_test_split\n",
    "from sklearn.utils import shuffle\n",
    "from tensorflow.keras.utils import to_categorical\n",
    "from tensorflow.keras.callbacks import EarlyStopping\n",
    "from tensorflow.keras.optimizers import SGD\n",
    "\n",
    "from text_to_vec import TextToVec\n",
    "from preprocess import Preprocess\n",
    "from utils.visualize import Visualize\n",
    "from utils.saving import Saving\n",
    "from utils.data_loader import DataLoader\n",
    "from models import *"
   ]
  },
  {
   "cell_type": "markdown",
   "metadata": {},
   "source": [
    "# Setup"
   ]
  },
  {
   "cell_type": "code",
   "execution_count": 3,
   "metadata": {
    "collapsed": false,
    "pycharm": {
     "name": "#%%\n"
    }
   },
   "outputs": [
    {
     "name": "stdout",
     "output_type": "stream",
     "text": [
      "2018-Valence-oc-En-dev.txt    emoji.py\n",
      "2018-Valence-oc-En-test.txt   GoogleNews-vectors-negative300.bin\n",
      "2018-Valence-oc-En-train.txt  __pycache__\n",
      "data_train_3.csv\t      test.txt\n",
      "data_train_7.csv\n"
     ]
    },
    {
     "name": "stderr",
     "output_type": "stream",
     "text": [
      "[nltk_data] Downloading package stopwords to\n",
      "[nltk_data]     /home/christian/nltk_data...\n",
      "[nltk_data]   Package stopwords is already up-to-date!\n",
      "[nltk_data] Downloading package wordnet to\n",
      "[nltk_data]     /home/christian/nltk_data...\n",
      "[nltk_data]   Package wordnet is already up-to-date!\n"
     ]
    }
   ],
   "source": [
    "data_loader = DataLoader(data_root=\"../../data\")\n",
    "saving = Saving(directory=\"results\")\n",
    "preprocess = Preprocess(data_loader)\n",
    "!ls $data_loader.root"
   ]
  },
  {
   "cell_type": "code",
   "execution_count": 4,
   "metadata": {},
   "outputs": [],
   "source": [
    "def preprocessing(data, preprocess, text2vec, output_dim = None):\n",
    "    texts = data[\"text\"].values\n",
    "    texts = np.vectorize(preprocess.text_standardization)(texts)\n",
    "    texts = text2vec.sequence_texts(texts)\n",
    "    if output_dim is not None:\n",
    "        label = to_categorical(data[\"class\"] + output_dim // 2, output_dim)\n",
    "        return texts, label\n",
    "    return texts, None"
   ]
  },
  {
   "cell_type": "markdown",
   "metadata": {
    "pycharm": {
     "name": "#%% md\n"
    }
   },
   "source": [
    "# Generate Text2vec and save it.\n",
    "Text2vec save the Tokenizer and Embedding matrix.  \n",
    "**Only run once**"
   ]
  },
  {
   "cell_type": "code",
   "execution_count": 3,
   "metadata": {
    "collapsed": false,
    "pycharm": {
     "is_executing": false,
     "name": "#%%\n"
    }
   },
   "outputs": [],
   "source": [
    "all_data = data_loader.load_tweet_v2(data_loader.train_7_v2_path)\\\n",
    "    .append(data_loader.load_tweet_v2(data_loader.val_7_v2_path))\\\n",
    "    .append(data_loader.load_tweet(data_loader.train_3_path))\\\n",
    "    .append(data_loader.load_tweet(data_loader.train_7_path))"
   ]
  },
  {
   "cell_type": "code",
   "execution_count": null,
   "metadata": {
    "collapsed": false,
    "pycharm": {
     "is_executing": false,
     "name": "#%%\n"
    }
   },
   "outputs": [],
   "source": [
    "vocab = all_data['text'].apply(preprocess.text_standardization)\n",
    "text_processing = TextToVec()\n",
    "text_processing.fit(data_loader, vocab, 300)\n",
    "saving.touch_dir(\"save\")  # Create save directory if not exist\n",
    "text_processing.save(\"save/tp-all-300.save\")"
   ]
  },
  {
   "cell_type": "markdown",
   "metadata": {
    "pycharm": {
     "name": "#%% md\n"
    }
   },
   "source": [
    "# Train model with 3 outputs"
   ]
  },
  {
   "cell_type": "code",
   "execution_count": 6,
   "metadata": {
    "collapsed": false,
    "pycharm": {
     "name": "#%% \n"
    }
   },
   "outputs": [],
   "source": [
    "text2vec = TextToVec.load(\"save/tp-all-300.save\")  # Load text2vec"
   ]
  },
  {
   "cell_type": "code",
   "execution_count": 7,
   "metadata": {
    "collapsed": false,
    "pycharm": {
     "is_executing": false,
     "name": "#%%\n"
    }
   },
   "outputs": [
    {
     "name": "stdout",
     "output_type": "stream",
     "text": [
      "Model: \"sequential\"\n",
      "_________________________________________________________________\n",
      "Layer (type)                 Output Shape              Param #   \n",
      "=================================================================\n",
      "embedding_layer (Embedding)  (None, 32, 300)           13570200  \n",
      "_________________________________________________________________\n",
      "gru (GRU)                    (None, 32)                32064     \n",
      "_________________________________________________________________\n",
      "dropout (Dropout)            (None, 32)                0         \n",
      "_________________________________________________________________\n",
      "dense (Dense)                (None, 32)                1056      \n",
      "_________________________________________________________________\n",
      "dropout_1 (Dropout)          (None, 32)                0         \n",
      "_________________________________________________________________\n",
      "dense_1 (Dense)              (None, 3)                 99        \n",
      "=================================================================\n",
      "Total params: 13,603,419\n",
      "Trainable params: 33,219\n",
      "Non-trainable params: 13,570,200\n",
      "_________________________________________________________________\n",
      "Train on 40266 samples, validate on 10067 samples\n",
      "Epoch 1/15\n",
      "40266/40266 [==============================] - 21s 525us/sample - loss: 0.8728 - acc: 0.5726 - val_loss: 0.7705 - val_acc: 0.6351\n",
      "Epoch 2/15\n",
      "40266/40266 [==============================] - 21s 520us/sample - loss: 0.7713 - acc: 0.6397 - val_loss: 0.7467 - val_acc: 0.6453\n",
      "Epoch 3/15\n",
      "40266/40266 [==============================] - 21s 533us/sample - loss: 0.7508 - acc: 0.6509 - val_loss: 0.7373 - val_acc: 0.6550\n",
      "Epoch 4/15\n",
      "40266/40266 [==============================] - 21s 531us/sample - loss: 0.7372 - acc: 0.6589 - val_loss: 0.7295 - val_acc: 0.6553\n",
      "Epoch 5/15\n",
      "40266/40266 [==============================] - 22s 536us/sample - loss: 0.7249 - acc: 0.6649 - val_loss: 0.7246 - val_acc: 0.6621\n",
      "Epoch 6/15\n",
      "40266/40266 [==============================] - 21s 531us/sample - loss: 0.7134 - acc: 0.6712 - val_loss: 0.7294 - val_acc: 0.6629\n",
      "Epoch 7/15\n",
      "40266/40266 [==============================] - 22s 539us/sample - loss: 0.7028 - acc: 0.6757 - val_loss: 0.7185 - val_acc: 0.6636\n",
      "Epoch 8/15\n",
      "40266/40266 [==============================] - 22s 535us/sample - loss: 0.6916 - acc: 0.6837 - val_loss: 0.7155 - val_acc: 0.6662\n",
      "Epoch 9/15\n",
      "40266/40266 [==============================] - 22s 536us/sample - loss: 0.6815 - acc: 0.6867 - val_loss: 0.7190 - val_acc: 0.6699\n",
      "Epoch 10/15\n",
      "40266/40266 [==============================] - 22s 540us/sample - loss: 0.6736 - acc: 0.6905 - val_loss: 0.7175 - val_acc: 0.6702\n",
      "Epoch 11/15\n",
      "40266/40266 [==============================] - 22s 538us/sample - loss: 0.6631 - acc: 0.6978 - val_loss: 0.7144 - val_acc: 0.6723\n",
      "Epoch 12/15\n",
      "40266/40266 [==============================] - 22s 540us/sample - loss: 0.6552 - acc: 0.6993 - val_loss: 0.7220 - val_acc: 0.6718\n",
      "Epoch 13/15\n",
      "40266/40266 [==============================] - 22s 546us/sample - loss: 0.6465 - acc: 0.7054 - val_loss: 0.7181 - val_acc: 0.6714\n",
      "Epoch 14/15\n",
      "40266/40266 [==============================] - 22s 538us/sample - loss: 0.6339 - acc: 0.7112 - val_loss: 0.7260 - val_acc: 0.6706\n",
      "Epoch 15/15\n",
      "40266/40266 [==============================] - 22s 546us/sample - loss: 0.6241 - acc: 0.7158 - val_loss: 0.7393 - val_acc: 0.6760\n"
     ]
    },
    {
     "data": {
      "image/png": "[encoded data removed]",
      "text/plain": [
       "<Figure size 432x288 with 1 Axes>"
      ]
     },
     "metadata": {
      "needs_background": "light"
     },
     "output_type": "display_data"
    },
    {
     "data": {
      "image/png": "[encoded data removed]",
      "text/plain": [
       "<Figure size 432x288 with 1 Axes>"
      ]
     },
     "metadata": {
      "needs_background": "light"
     },
     "output_type": "display_data"
    }
   ],
   "source": [
    "train_3 = data_loader.load_tweet(data_loader.train_3_path)\n",
    "texts, labels = preprocessing(train_3, preprocess, text2vec, 3)\n",
    "texts, labels = shuffle(texts, labels)\n",
    "X_train, X_val, y_train, y_val = train_test_split(texts, labels, test_size=0.2)\n",
    "\n",
    "embedding_layer = text2vec.get_embedding_layer(trainable=False)\n",
    "\n",
    "model3, model3_name = model3_gru(embedding_layer, saving)\n",
    "model3.compile(loss='categorical_crossentropy', optimizer='adam', metrics=['acc'])\n",
    "model3.summary()\n",
    "history = model3.fit(X_train, y_train, validation_data=(X_val, y_val),\n",
    "                    epochs=15, batch_size=100,\n",
    "                    callbacks=saving.get_callbacks(model3_name, tensorboard=False, model_checkpoint=False))\n",
    "\n",
    "Visualize.plot_history(history.history, output=\"/tmp\")\n",
    "saving.save_model(model3, model3_name, override=True)"
   ]
  },
  {
   "cell_type": "markdown",
   "metadata": {
    "pycharm": {
     "name": "#%% md\n"
    }
   },
   "source": [
    "# Train model 7"
   ]
  },
  {
   "cell_type": "code",
   "execution_count": 8,
   "metadata": {
    "collapsed": false,
    "pycharm": {
     "name": "#%%\n"
    }
   },
   "outputs": [
    {
     "name": "stdout",
     "output_type": "stream",
     "text": [
      "[Saving] Loading model at: results/model4/model4.h5\n",
      "Model: \"sequential\"\n",
      "_________________________________________________________________\n",
      "Layer (type)                 Output Shape              Param #   \n",
      "=================================================================\n",
      "embedding_layer (Embedding)  (None, 32, 300)           13570200  \n",
      "_________________________________________________________________\n",
      "gru (GRU)                    (None, 32)                32064     \n",
      "_________________________________________________________________\n",
      "dropout (Dropout)            (None, 32)                0         \n",
      "_________________________________________________________________\n",
      "dense (Dense)                (None, 32)                1056      \n",
      "_________________________________________________________________\n",
      "dropout_1 (Dropout)          (None, 32)                0         \n",
      "_________________________________________________________________\n",
      "dense1 (Dense)               (None, 64)                2112      \n",
      "_________________________________________________________________\n",
      "dropout_4 (Dropout)          (None, 64)                0         \n",
      "_________________________________________________________________\n",
      "dense2 (Dense)               (None, 32)                2080      \n",
      "_________________________________________________________________\n",
      "dropout_5 (Dropout)          (None, 32)                0         \n",
      "_________________________________________________________________\n",
      "dense3 (Dense)               (None, 7)                 231       \n",
      "=================================================================\n",
      "Total params: 13,607,743\n",
      "Trainable params: 4,423\n",
      "Non-trainable params: 13,603,320\n",
      "_________________________________________________________________\n",
      "Train on 1181 samples, validate on 449 samples\n",
      "Epoch 1/30\n",
      "1181/1181 [==============================] - 2s 2ms/sample - loss: 1.9389 - acc: 0.1990 - val_loss: 1.8160 - val_acc: 0.3229\n",
      "Epoch 2/30\n",
      "1181/1181 [==============================] - 1s 586us/sample - loss: 1.8083 - acc: 0.2845 - val_loss: 1.7121 - val_acc: 0.2984\n",
      "Epoch 3/30\n",
      "1181/1181 [==============================] - 1s 629us/sample - loss: 1.7279 - acc: 0.3362 - val_loss: 1.6494 - val_acc: 0.3007\n",
      "Epoch 4/30\n",
      "1181/1181 [==============================] - 1s 626us/sample - loss: 1.6665 - acc: 0.3548 - val_loss: 1.6132 - val_acc: 0.3029\n",
      "Epoch 5/30\n",
      "1181/1181 [==============================] - 1s 628us/sample - loss: 1.6436 - acc: 0.3404 - val_loss: 1.5823 - val_acc: 0.3586\n",
      "Epoch 6/30\n",
      "1181/1181 [==============================] - 1s 613us/sample - loss: 1.6167 - acc: 0.3548 - val_loss: 1.5616 - val_acc: 0.3719\n",
      "Epoch 7/30\n",
      "1181/1181 [==============================] - 1s 610us/sample - loss: 1.5778 - acc: 0.3810 - val_loss: 1.5498 - val_acc: 0.3630\n",
      "Epoch 8/30\n",
      "1181/1181 [==============================] - 1s 607us/sample - loss: 1.6014 - acc: 0.3548 - val_loss: 1.5397 - val_acc: 0.3697\n",
      "Epoch 9/30\n",
      "1181/1181 [==============================] - 1s 606us/sample - loss: 1.5750 - acc: 0.3760 - val_loss: 1.5330 - val_acc: 0.3675\n",
      "Epoch 10/30\n",
      "1181/1181 [==============================] - 1s 619us/sample - loss: 1.5807 - acc: 0.3590 - val_loss: 1.5315 - val_acc: 0.3675\n",
      "Epoch 11/30\n",
      "1181/1181 [==============================] - 1s 615us/sample - loss: 1.5584 - acc: 0.3836 - val_loss: 1.5270 - val_acc: 0.3653\n",
      "Epoch 12/30\n",
      "1181/1181 [==============================] - 1s 607us/sample - loss: 1.5616 - acc: 0.3599 - val_loss: 1.5217 - val_acc: 0.3786\n",
      "Epoch 13/30\n",
      "1181/1181 [==============================] - 1s 622us/sample - loss: 1.5596 - acc: 0.3658 - val_loss: 1.5191 - val_acc: 0.3719\n",
      "Epoch 14/30\n",
      "1181/1181 [==============================] - 1s 629us/sample - loss: 1.5571 - acc: 0.3700 - val_loss: 1.5196 - val_acc: 0.3653\n",
      "Epoch 15/30\n",
      "1181/1181 [==============================] - 1s 617us/sample - loss: 1.5436 - acc: 0.3844 - val_loss: 1.5184 - val_acc: 0.3653\n",
      "Epoch 16/30\n",
      "1181/1181 [==============================] - 1s 613us/sample - loss: 1.5395 - acc: 0.3912 - val_loss: 1.5165 - val_acc: 0.3630\n",
      "Epoch 17/30\n",
      "1181/1181 [==============================] - 1s 608us/sample - loss: 1.5389 - acc: 0.3844 - val_loss: 1.5130 - val_acc: 0.3742\n",
      "Epoch 18/30\n",
      "1181/1181 [==============================] - 1s 612us/sample - loss: 1.5117 - acc: 0.3802 - val_loss: 1.5127 - val_acc: 0.3653\n",
      "Epoch 19/30\n",
      "1181/1181 [==============================] - 1s 608us/sample - loss: 1.5159 - acc: 0.3853 - val_loss: 1.5118 - val_acc: 0.3697\n",
      "Epoch 20/30\n",
      "1181/1181 [==============================] - 1s 609us/sample - loss: 1.5358 - acc: 0.3844 - val_loss: 1.5106 - val_acc: 0.3675\n",
      "Epoch 21/30\n",
      "1181/1181 [==============================] - 1s 612us/sample - loss: 1.5231 - acc: 0.3878 - val_loss: 1.5074 - val_acc: 0.3675\n",
      "Epoch 22/30\n",
      "1181/1181 [==============================] - 1s 629us/sample - loss: 1.5273 - acc: 0.3819 - val_loss: 1.5050 - val_acc: 0.3697\n",
      "Epoch 23/30\n",
      "1181/1181 [==============================] - 1s 609us/sample - loss: 1.5328 - acc: 0.3785 - val_loss: 1.5057 - val_acc: 0.3675\n",
      "Epoch 24/30\n",
      "1181/1181 [==============================] - 1s 613us/sample - loss: 1.5325 - acc: 0.3853 - val_loss: 1.5077 - val_acc: 0.3675\n",
      "Epoch 25/30\n",
      "1181/1181 [==============================] - 1s 609us/sample - loss: 1.5226 - acc: 0.3802 - val_loss: 1.5082 - val_acc: 0.3653\n",
      "Epoch 26/30\n",
      "1181/1181 [==============================] - 1s 607us/sample - loss: 1.5085 - acc: 0.3887 - val_loss: 1.5076 - val_acc: 0.3653\n",
      "Epoch 27/30\n",
      "1181/1181 [==============================] - 1s 611us/sample - loss: 1.4984 - acc: 0.4005 - val_loss: 1.5081 - val_acc: 0.3653\n",
      "Epoch 28/30\n",
      "1181/1181 [==============================] - 1s 609us/sample - loss: 1.4880 - acc: 0.4056 - val_loss: 1.5049 - val_acc: 0.3653\n",
      "Epoch 29/30\n",
      "1181/1181 [==============================] - 1s 621us/sample - loss: 1.5089 - acc: 0.3903 - val_loss: 1.5043 - val_acc: 0.3675\n",
      "Epoch 30/30\n",
      "1181/1181 [==============================] - 1s 609us/sample - loss: 1.5134 - acc: 0.4014 - val_loss: 1.5038 - val_acc: 0.3653\n"
     ]
    },
    {
     "data": {
      "image/png": "[encoded data removed]",
      "text/plain": [
       "<Figure size 432x288 with 1 Axes>"
      ]
     },
     "metadata": {
      "needs_background": "light"
     },
     "output_type": "display_data"
    },
    {
     "data": {
      "image/png": "[encoded data removed]",
      "text/plain": [
       "<Figure size 432x288 with 1 Axes>"
      ]
     },
     "metadata": {
      "needs_background": "light"
     },
     "output_type": "display_data"
    }
   ],
   "source": [
    "train_7_v2 = data_loader.load_tweet_v2(data_loader.train_7_v2_path)\n",
    "val_7_v2 = data_loader.load_tweet_v2(data_loader.val_7_v2_path)\n",
    "\n",
    "texts, labels = preprocessing(train_7_v2, preprocess, text2vec, 7)\n",
    "val, vlabels = preprocessing(val_7_v2, preprocess, text2vec, 7)\n",
    "\n",
    "embedding_layer = text2vec.get_embedding_layer(trainable=False)\n",
    "\n",
    "_, model3_name = model3_gru(embedding_layer, saving)\n",
    "model3 = saving.load_model(model3_name)\n",
    "\n",
    "model7, model7_name = model7(model3, saving, trainable=False)\n",
    "model7.compile(loss='categorical_crossentropy', optimizer='adam', metrics=['acc'])\n",
    "model7.summary()\n",
    "history = model7.fit(texts, labels, validation_data=(val, vlabels),\n",
    "                    epochs=30, batch_size=100,\n",
    "                    callbacks=saving.get_callbacks(model7_name, tensorboard=False, model_checkpoint=False))\n",
    "\n",
    "Visualize.plot_history(history.history, output=\"/tmp\")\n",
    "saving.save_model(model7, model7_name, override=True)"
   ]
  },
  {
   "cell_type": "markdown",
   "metadata": {
    "pycharm": {
     "is_executing": false,
     "name": "#%% md\n"
    }
   },
   "source": [
    "# Predict"
   ]
  },
  {
   "cell_type": "code",
   "execution_count": 11,
   "metadata": {
    "collapsed": false,
    "pycharm": {
     "name": "#%%\n"
    }
   },
   "outputs": [
    {
     "name": "stdout",
     "output_type": "stream",
     "text": [
      "[Saving] Loading model at: results/model7/model7.h5\n"
     ]
    }
   ],
   "source": [
    "model = saving.load_model(\"model7\")\n",
    "test_data = data_loader.load_tweet_v2(data_loader.test_7_v2_path)\n",
    "texts, _ = preprocessing(test_data, preprocess, text2vec)\n",
    "test_data[\"class\"] = np.argmax(model.predict(texts), axis=1)\n",
    "data_loader.write_tweet_v2(test_data, \"predict.csv\")"
   ]
  },
  {
   "cell_type": "code",
   "execution_count": null,
   "metadata": {},
   "outputs": [],
   "source": []
  }
 ],
 "metadata": {
  "kernelspec": {
   "display_name": "Python 3",
   "language": "python",
   "name": "python3"
  },
  "language_info": {
   "codemirror_mode": {
    "name": "ipython",
    "version": 3
   },
   "file_extension": ".py",
   "mimetype": "text/x-python",
   "name": "python",
   "nbconvert_exporter": "python",
   "pygments_lexer": "ipython3",
   "version": "3.7.3"
  },
  "pycharm": {
   "stem_cell": {
    "cell_type": "raw",
    "metadata": {
     "collapsed": false
    },
    "source": []
   }
  }
 },
 "nbformat": 4,
 "nbformat_minor": 2
}
